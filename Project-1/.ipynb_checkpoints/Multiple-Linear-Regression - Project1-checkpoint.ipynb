{
 "cells": [
  {
   "cell_type": "markdown",
   "id": "0c6c5950",
   "metadata": {},
   "source": [
    "# PROJECT GOAL "
   ]
  },
  {
   "cell_type": "markdown",
   "id": "7d3c5d0e",
   "metadata": {},
   "source": [
    "    THIS PROJECT AIMS TO PREDICT THE STOCK MARKET PRICE USING LINEAR REGRESSION "
   ]
  },
  {
   "cell_type": "markdown",
   "id": "0fe08ed7",
   "metadata": {},
   "source": [
    "# PROBLEM STATEMENT"
   ]
  },
  {
   "cell_type": "markdown",
   "id": "e5980ad8",
   "metadata": {},
   "source": [
    "    The dataset for this project is created for prediction of the S&P 500 stock market based on interest rates and employment numbers "
   ]
  },
  {
   "cell_type": "markdown",
   "id": "fe0f7d01",
   "metadata": {},
   "source": [
    "# Dataset Content"
   ]
  },
  {
   "cell_type": "markdown",
   "id": "f98387b0",
   "metadata": {},
   "source": [
    "    The dataset is just made up sample of stock market data operations overtime\n",
    "    \n",
    "    It has 3 columns. Which is, 2 independent variables X (Interest rates and Employement) that would be predicting dependent varible y (S&P 500 Price)\n",
    "    \n",
    "    Dataset contains 1000 rows "
   ]
  },
  {
   "cell_type": "markdown",
   "id": "5a2b20e0",
   "metadata": {},
   "source": [
    "# Project Techniques & Strategy "
   ]
  },
  {
   "cell_type": "markdown",
   "id": "12611697",
   "metadata": {},
   "source": [
    "     Adopting Multiple Linear Regression Model to Predict the Stock Market Price"
   ]
  },
  {
   "cell_type": "markdown",
   "id": "b9eaf25b",
   "metadata": {},
   "source": [
    "# Project Execution Workflow"
   ]
  },
  {
   "cell_type": "markdown",
   "id": "ea111205",
   "metadata": {},
   "source": [
    "# Step 1: Import Libraries"
   ]
  },
  {
   "cell_type": "code",
   "execution_count": 1,
   "id": "3f262249",
   "metadata": {},
   "outputs": [],
   "source": [
    "# Importing the libraries\n",
    "\n",
    "import pandas as pd\n",
    "import numpy as np\n",
    "import seaborn as sns\n",
    "import matplotlib.pyplot as plt"
   ]
  },
  {
   "cell_type": "markdown",
   "id": "e48204d5",
   "metadata": {},
   "source": [
    "# Step 2: Import Dataset"
   ]
  },
  {
   "cell_type": "code",
   "execution_count": 4,
   "id": "b2b50770",
   "metadata": {},
   "outputs": [],
   "source": [
    "# Importing and storing the dataset for the project\n",
    "\n",
    "stockdata = pd.read_csv('S&P500_Stock_Data.csv')"
   ]
  },
  {
   "cell_type": "code",
   "execution_count": 5,
   "id": "4ca719f4",
   "metadata": {},
   "outputs": [
    {
     "data": {
      "text/html": [
       "<div>\n",
       "<style scoped>\n",
       "    .dataframe tbody tr th:only-of-type {\n",
       "        vertical-align: middle;\n",
       "    }\n",
       "\n",
       "    .dataframe tbody tr th {\n",
       "        vertical-align: top;\n",
       "    }\n",
       "\n",
       "    .dataframe thead th {\n",
       "        text-align: right;\n",
       "    }\n",
       "</style>\n",
       "<table border=\"1\" class=\"dataframe\">\n",
       "  <thead>\n",
       "    <tr style=\"text-align: right;\">\n",
       "      <th></th>\n",
       "      <th>Interest Rates</th>\n",
       "      <th>Employment</th>\n",
       "      <th>S&amp;P 500 Price</th>\n",
       "    </tr>\n",
       "  </thead>\n",
       "  <tbody>\n",
       "    <tr>\n",
       "      <th>0</th>\n",
       "      <td>1.943859</td>\n",
       "      <td>55.413571</td>\n",
       "      <td>2206.680582</td>\n",
       "    </tr>\n",
       "    <tr>\n",
       "      <th>1</th>\n",
       "      <td>2.258229</td>\n",
       "      <td>59.546305</td>\n",
       "      <td>2486.474488</td>\n",
       "    </tr>\n",
       "    <tr>\n",
       "      <th>2</th>\n",
       "      <td>2.215863</td>\n",
       "      <td>57.414687</td>\n",
       "      <td>2405.868337</td>\n",
       "    </tr>\n",
       "    <tr>\n",
       "      <th>3</th>\n",
       "      <td>1.977960</td>\n",
       "      <td>49.908353</td>\n",
       "      <td>2140.434475</td>\n",
       "    </tr>\n",
       "    <tr>\n",
       "      <th>4</th>\n",
       "      <td>2.437723</td>\n",
       "      <td>52.035492</td>\n",
       "      <td>2411.275663</td>\n",
       "    </tr>\n",
       "    <tr>\n",
       "      <th>...</th>\n",
       "      <td>...</td>\n",
       "      <td>...</td>\n",
       "      <td>...</td>\n",
       "    </tr>\n",
       "    <tr>\n",
       "      <th>995</th>\n",
       "      <td>2.528420</td>\n",
       "      <td>52.390828</td>\n",
       "      <td>2578.699184</td>\n",
       "    </tr>\n",
       "    <tr>\n",
       "      <th>996</th>\n",
       "      <td>2.643571</td>\n",
       "      <td>54.626204</td>\n",
       "      <td>2573.865933</td>\n",
       "    </tr>\n",
       "    <tr>\n",
       "      <th>997</th>\n",
       "      <td>2.009644</td>\n",
       "      <td>57.004357</td>\n",
       "      <td>2004.911218</td>\n",
       "    </tr>\n",
       "    <tr>\n",
       "      <th>998</th>\n",
       "      <td>2.201656</td>\n",
       "      <td>62.447790</td>\n",
       "      <td>2344.098981</td>\n",
       "    </tr>\n",
       "    <tr>\n",
       "      <th>999</th>\n",
       "      <td>2.180638</td>\n",
       "      <td>46.297034</td>\n",
       "      <td>2156.133786</td>\n",
       "    </tr>\n",
       "  </tbody>\n",
       "</table>\n",
       "<p>1000 rows × 3 columns</p>\n",
       "</div>"
      ],
      "text/plain": [
       "     Interest Rates  Employment  S&P 500 Price\n",
       "0          1.943859   55.413571    2206.680582\n",
       "1          2.258229   59.546305    2486.474488\n",
       "2          2.215863   57.414687    2405.868337\n",
       "3          1.977960   49.908353    2140.434475\n",
       "4          2.437723   52.035492    2411.275663\n",
       "..              ...         ...            ...\n",
       "995        2.528420   52.390828    2578.699184\n",
       "996        2.643571   54.626204    2573.865933\n",
       "997        2.009644   57.004357    2004.911218\n",
       "998        2.201656   62.447790    2344.098981\n",
       "999        2.180638   46.297034    2156.133786\n",
       "\n",
       "[1000 rows x 3 columns]"
      ]
     },
     "execution_count": 5,
     "metadata": {},
     "output_type": "execute_result"
    }
   ],
   "source": [
    "# reading the data \n",
    "\n",
    "stockdata"
   ]
  },
  {
   "cell_type": "markdown",
   "id": "7623c1c6",
   "metadata": {},
   "source": [
    "Analysing the dataset imported"
   ]
  },
  {
   "cell_type": "code",
   "execution_count": 7,
   "id": "89d21950",
   "metadata": {},
   "outputs": [
    {
     "data": {
      "text/plain": [
       "Interest Rates    0\n",
       "Employment        0\n",
       "S&P 500 Price     0\n",
       "dtype: int64"
      ]
     },
     "execution_count": 7,
     "metadata": {},
     "output_type": "execute_result"
    }
   ],
   "source": [
    "# checking if there null data in the dataset\n",
    "\n",
    "stockdata.isna().sum()"
   ]
  },
  {
   "cell_type": "code",
   "execution_count": 8,
   "id": "24c236a3",
   "metadata": {},
   "outputs": [
    {
     "data": {
      "text/html": [
       "<div>\n",
       "<style scoped>\n",
       "    .dataframe tbody tr th:only-of-type {\n",
       "        vertical-align: middle;\n",
       "    }\n",
       "\n",
       "    .dataframe tbody tr th {\n",
       "        vertical-align: top;\n",
       "    }\n",
       "\n",
       "    .dataframe thead th {\n",
       "        text-align: right;\n",
       "    }\n",
       "</style>\n",
       "<table border=\"1\" class=\"dataframe\">\n",
       "  <thead>\n",
       "    <tr style=\"text-align: right;\">\n",
       "      <th></th>\n",
       "      <th>Interest Rates</th>\n",
       "      <th>Employment</th>\n",
       "      <th>S&amp;P 500 Price</th>\n",
       "    </tr>\n",
       "  </thead>\n",
       "  <tbody>\n",
       "    <tr>\n",
       "      <th>count</th>\n",
       "      <td>1000.000000</td>\n",
       "      <td>1000.000000</td>\n",
       "      <td>1000.000000</td>\n",
       "    </tr>\n",
       "    <tr>\n",
       "      <th>mean</th>\n",
       "      <td>2.195392</td>\n",
       "      <td>56.254855</td>\n",
       "      <td>2319.999936</td>\n",
       "    </tr>\n",
       "    <tr>\n",
       "      <th>std</th>\n",
       "      <td>0.241630</td>\n",
       "      <td>4.862178</td>\n",
       "      <td>193.854745</td>\n",
       "    </tr>\n",
       "    <tr>\n",
       "      <th>min</th>\n",
       "      <td>1.500000</td>\n",
       "      <td>40.000000</td>\n",
       "      <td>1800.000000</td>\n",
       "    </tr>\n",
       "    <tr>\n",
       "      <th>25%</th>\n",
       "      <td>2.035735</td>\n",
       "      <td>53.029784</td>\n",
       "      <td>2190.447901</td>\n",
       "    </tr>\n",
       "    <tr>\n",
       "      <th>50%</th>\n",
       "      <td>2.198214</td>\n",
       "      <td>56.160941</td>\n",
       "      <td>2312.443024</td>\n",
       "    </tr>\n",
       "    <tr>\n",
       "      <th>75%</th>\n",
       "      <td>2.359061</td>\n",
       "      <td>59.422633</td>\n",
       "      <td>2455.764328</td>\n",
       "    </tr>\n",
       "    <tr>\n",
       "      <th>max</th>\n",
       "      <td>3.000000</td>\n",
       "      <td>70.000000</td>\n",
       "      <td>3000.000000</td>\n",
       "    </tr>\n",
       "  </tbody>\n",
       "</table>\n",
       "</div>"
      ],
      "text/plain": [
       "       Interest Rates   Employment  S&P 500 Price\n",
       "count     1000.000000  1000.000000    1000.000000\n",
       "mean         2.195392    56.254855    2319.999936\n",
       "std          0.241630     4.862178     193.854745\n",
       "min          1.500000    40.000000    1800.000000\n",
       "25%          2.035735    53.029784    2190.447901\n",
       "50%          2.198214    56.160941    2312.443024\n",
       "75%          2.359061    59.422633    2455.764328\n",
       "max          3.000000    70.000000    3000.000000"
      ]
     },
     "execution_count": 8,
     "metadata": {},
     "output_type": "execute_result"
    }
   ],
   "source": [
    "# summarizing the dataset \n",
    "\n",
    "stockdata.describe()"
   ]
  },
  {
   "cell_type": "code",
   "execution_count": 10,
   "id": "6909a2d1",
   "metadata": {},
   "outputs": [
    {
     "name": "stdout",
     "output_type": "stream",
     "text": [
      "<class 'pandas.core.frame.DataFrame'>\n",
      "RangeIndex: 1000 entries, 0 to 999\n",
      "Data columns (total 3 columns):\n",
      " #   Column          Non-Null Count  Dtype  \n",
      "---  ------          --------------  -----  \n",
      " 0   Interest Rates  1000 non-null   float64\n",
      " 1   Employment      1000 non-null   float64\n",
      " 2   S&P 500 Price   1000 non-null   float64\n",
      "dtypes: float64(3)\n",
      "memory usage: 23.6 KB\n"
     ]
    }
   ],
   "source": [
    "# checking the info of the data \n",
    "\n",
    "stockdata.info()"
   ]
  },
  {
   "cell_type": "code",
   "execution_count": 11,
   "id": "e69710cb",
   "metadata": {},
   "outputs": [
    {
     "data": {
      "text/html": [
       "<div>\n",
       "<style scoped>\n",
       "    .dataframe tbody tr th:only-of-type {\n",
       "        vertical-align: middle;\n",
       "    }\n",
       "\n",
       "    .dataframe tbody tr th {\n",
       "        vertical-align: top;\n",
       "    }\n",
       "\n",
       "    .dataframe thead th {\n",
       "        text-align: right;\n",
       "    }\n",
       "</style>\n",
       "<table border=\"1\" class=\"dataframe\">\n",
       "  <thead>\n",
       "    <tr style=\"text-align: right;\">\n",
       "      <th></th>\n",
       "      <th>Interest Rates</th>\n",
       "      <th>Employment</th>\n",
       "      <th>S&amp;P 500 Price</th>\n",
       "    </tr>\n",
       "  </thead>\n",
       "  <tbody>\n",
       "    <tr>\n",
       "      <th>995</th>\n",
       "      <td>2.528420</td>\n",
       "      <td>52.390828</td>\n",
       "      <td>2578.699184</td>\n",
       "    </tr>\n",
       "    <tr>\n",
       "      <th>996</th>\n",
       "      <td>2.643571</td>\n",
       "      <td>54.626204</td>\n",
       "      <td>2573.865933</td>\n",
       "    </tr>\n",
       "    <tr>\n",
       "      <th>997</th>\n",
       "      <td>2.009644</td>\n",
       "      <td>57.004357</td>\n",
       "      <td>2004.911218</td>\n",
       "    </tr>\n",
       "    <tr>\n",
       "      <th>998</th>\n",
       "      <td>2.201656</td>\n",
       "      <td>62.447790</td>\n",
       "      <td>2344.098981</td>\n",
       "    </tr>\n",
       "    <tr>\n",
       "      <th>999</th>\n",
       "      <td>2.180638</td>\n",
       "      <td>46.297034</td>\n",
       "      <td>2156.133786</td>\n",
       "    </tr>\n",
       "  </tbody>\n",
       "</table>\n",
       "</div>"
      ],
      "text/plain": [
       "     Interest Rates  Employment  S&P 500 Price\n",
       "995        2.528420   52.390828    2578.699184\n",
       "996        2.643571   54.626204    2573.865933\n",
       "997        2.009644   57.004357    2004.911218\n",
       "998        2.201656   62.447790    2344.098981\n",
       "999        2.180638   46.297034    2156.133786"
      ]
     },
     "execution_count": 11,
     "metadata": {},
     "output_type": "execute_result"
    }
   ],
   "source": [
    "stockdata.tail()"
   ]
  },
  {
   "cell_type": "code",
   "execution_count": 12,
   "id": "6c078fdb",
   "metadata": {},
   "outputs": [
    {
     "data": {
      "text/html": [
       "<div>\n",
       "<style scoped>\n",
       "    .dataframe tbody tr th:only-of-type {\n",
       "        vertical-align: middle;\n",
       "    }\n",
       "\n",
       "    .dataframe tbody tr th {\n",
       "        vertical-align: top;\n",
       "    }\n",
       "\n",
       "    .dataframe thead th {\n",
       "        text-align: right;\n",
       "    }\n",
       "</style>\n",
       "<table border=\"1\" class=\"dataframe\">\n",
       "  <thead>\n",
       "    <tr style=\"text-align: right;\">\n",
       "      <th></th>\n",
       "      <th>Interest Rates</th>\n",
       "      <th>Employment</th>\n",
       "      <th>S&amp;P 500 Price</th>\n",
       "    </tr>\n",
       "  </thead>\n",
       "  <tbody>\n",
       "    <tr>\n",
       "      <th>0</th>\n",
       "      <td>1.943859</td>\n",
       "      <td>55.413571</td>\n",
       "      <td>2206.680582</td>\n",
       "    </tr>\n",
       "    <tr>\n",
       "      <th>1</th>\n",
       "      <td>2.258229</td>\n",
       "      <td>59.546305</td>\n",
       "      <td>2486.474488</td>\n",
       "    </tr>\n",
       "    <tr>\n",
       "      <th>2</th>\n",
       "      <td>2.215863</td>\n",
       "      <td>57.414687</td>\n",
       "      <td>2405.868337</td>\n",
       "    </tr>\n",
       "    <tr>\n",
       "      <th>3</th>\n",
       "      <td>1.977960</td>\n",
       "      <td>49.908353</td>\n",
       "      <td>2140.434475</td>\n",
       "    </tr>\n",
       "    <tr>\n",
       "      <th>4</th>\n",
       "      <td>2.437723</td>\n",
       "      <td>52.035492</td>\n",
       "      <td>2411.275663</td>\n",
       "    </tr>\n",
       "  </tbody>\n",
       "</table>\n",
       "</div>"
      ],
      "text/plain": [
       "   Interest Rates  Employment  S&P 500 Price\n",
       "0        1.943859   55.413571    2206.680582\n",
       "1        2.258229   59.546305    2486.474488\n",
       "2        2.215863   57.414687    2405.868337\n",
       "3        1.977960   49.908353    2140.434475\n",
       "4        2.437723   52.035492    2411.275663"
      ]
     },
     "execution_count": 12,
     "metadata": {},
     "output_type": "execute_result"
    }
   ],
   "source": [
    "stockdata.head()"
   ]
  },
  {
   "cell_type": "markdown",
   "id": "8fe56dde",
   "metadata": {},
   "source": [
    "# Step 3: Visualize Dataset"
   ]
  },
  {
   "cell_type": "code",
   "execution_count": 13,
   "id": "29ff6364",
   "metadata": {},
   "outputs": [
    {
     "data": {
      "text/plain": [
       "<seaborn.axisgrid.JointGrid at 0x7fa1dd8e5580>"
      ]
     },
     "execution_count": 13,
     "metadata": {},
     "output_type": "execute_result"
    },
    {
     "data": {
      "image/png": "[encoded data removed]",
      "text/plain": [
       "<Figure size 432x432 with 3 Axes>"
      ]
     },
     "metadata": {
      "needs_background": "light"
     },
     "output_type": "display_data"
    }
   ],
   "source": [
    "# visualizing the dataset through jointplot\n",
    "# first plot employment column \n",
    "# against S&P 500 Price column \n",
    "\n",
    "sns.jointplot(x='Employment',\n",
    "             y='S&P 500 Price',\n",
    "             data =stockdata,\n",
    "             color = 'green')"
   ]
  },
  {
   "cell_type": "markdown",
   "id": "04f154cd",
   "metadata": {},
   "source": [
    "THE ABOVE IS EMPLOYMENT AGAINST S&P 500 PRICE"
   ]
  },
  {
   "cell_type": "markdown",
   "id": "693adb5c",
   "metadata": {},
   "source": [
    "THE BELOW IS INTEREST RATES AGAINTS S&P 500 PRICE"
   ]
  },
  {
   "cell_type": "code",
   "execution_count": 14,
   "id": "96bcf184",
   "metadata": {},
   "outputs": [
    {
     "data": {
      "text/plain": [
       "<seaborn.axisgrid.JointGrid at 0x7fa1dd8e50a0>"
      ]
     },
     "execution_count": 14,
     "metadata": {},
     "output_type": "execute_result"
    },
    {
     "data": {
      "image/png": "[encoded data removed]",
      "text/plain": [
       "<Figure size 432x432 with 3 Axes>"
      ]
     },
     "metadata": {
      "needs_background": "light"
     },
     "output_type": "display_data"
    }
   ],
   "source": [
    "# visualizing the remaining independent variable \n",
    "# through jointplot\n",
    "\n",
    "sns.jointplot(x='Interest Rates',\n",
    "             y='S&P 500 Price',\n",
    "             data =stockdata,\n",
    "             color = 'purple')"
   ]
  },
  {
   "cell_type": "code",
   "execution_count": 16,
   "id": "17bfb86b",
   "metadata": {},
   "outputs": [
    {
     "data": {
      "text/plain": [
       "<seaborn.axisgrid.PairGrid at 0x7fa1dd796a60>"
      ]
     },
     "execution_count": 16,
     "metadata": {},
     "output_type": "execute_result"
    },
    {
     "data": {
      "image/png": "[encoded data removed]",
      "text/plain": [
       "<Figure size 540x540 with 12 Axes>"
      ]
     },
     "metadata": {
      "needs_background": "light"
     },
     "output_type": "display_data"
    }
   ],
   "source": [
    "sns.pairplot(stockdata)"
   ]
  },
  {
   "cell_type": "markdown",
   "id": "0dee5d61",
   "metadata": {},
   "source": [
    "# Step 4: Create Testing and Training Dataset/ Data Cleaning "
   ]
  },
  {
   "cell_type": "markdown",
   "id": "2634c65a",
   "metadata": {},
   "source": [
    "    Splitting the dataset into training and testing dataset, and also import the model from sklearn\n",
    "\n"
   ]
  },
  {
   "cell_type": "code",
   "execution_count": 19,
   "id": "572f2e59",
   "metadata": {},
   "outputs": [],
   "source": [
    "# assigning columns to their class of variables \n",
    "# for training and testing\n",
    "\n",
    "y = stockdata['S&P 500 Price']"
   ]
  },
  {
   "cell_type": "code",
   "execution_count": 20,
   "id": "50d22ddd",
   "metadata": {},
   "outputs": [
    {
     "data": {
      "text/plain": [
       "995    2578.699184\n",
       "996    2573.865933\n",
       "997    2004.911218\n",
       "998    2344.098981\n",
       "999    2156.133786\n",
       "Name: S&P 500 Price, dtype: float64"
      ]
     },
     "execution_count": 20,
     "metadata": {},
     "output_type": "execute_result"
    }
   ],
   "source": [
    "y.tail()"
   ]
  },
  {
   "cell_type": "code",
   "execution_count": 24,
   "id": "a6771ead",
   "metadata": {},
   "outputs": [],
   "source": [
    "X = stockdata[['Interest Rates', 'Employment']]"
   ]
  },
  {
   "cell_type": "code",
   "execution_count": 25,
   "id": "4862ec93",
   "metadata": {},
   "outputs": [
    {
     "data": {
      "text/html": [
       "<div>\n",
       "<style scoped>\n",
       "    .dataframe tbody tr th:only-of-type {\n",
       "        vertical-align: middle;\n",
       "    }\n",
       "\n",
       "    .dataframe tbody tr th {\n",
       "        vertical-align: top;\n",
       "    }\n",
       "\n",
       "    .dataframe thead th {\n",
       "        text-align: right;\n",
       "    }\n",
       "</style>\n",
       "<table border=\"1\" class=\"dataframe\">\n",
       "  <thead>\n",
       "    <tr style=\"text-align: right;\">\n",
       "      <th></th>\n",
       "      <th>Interest Rates</th>\n",
       "      <th>Employment</th>\n",
       "    </tr>\n",
       "  </thead>\n",
       "  <tbody>\n",
       "    <tr>\n",
       "      <th>0</th>\n",
       "      <td>1.943859</td>\n",
       "      <td>55.413571</td>\n",
       "    </tr>\n",
       "    <tr>\n",
       "      <th>1</th>\n",
       "      <td>2.258229</td>\n",
       "      <td>59.546305</td>\n",
       "    </tr>\n",
       "    <tr>\n",
       "      <th>2</th>\n",
       "      <td>2.215863</td>\n",
       "      <td>57.414687</td>\n",
       "    </tr>\n",
       "    <tr>\n",
       "      <th>3</th>\n",
       "      <td>1.977960</td>\n",
       "      <td>49.908353</td>\n",
       "    </tr>\n",
       "    <tr>\n",
       "      <th>4</th>\n",
       "      <td>2.437723</td>\n",
       "      <td>52.035492</td>\n",
       "    </tr>\n",
       "  </tbody>\n",
       "</table>\n",
       "</div>"
      ],
      "text/plain": [
       "   Interest Rates  Employment\n",
       "0        1.943859   55.413571\n",
       "1        2.258229   59.546305\n",
       "2        2.215863   57.414687\n",
       "3        1.977960   49.908353\n",
       "4        2.437723   52.035492"
      ]
     },
     "execution_count": 25,
     "metadata": {},
     "output_type": "execute_result"
    }
   ],
   "source": [
    "X.head()"
   ]
  },
  {
   "cell_type": "markdown",
   "id": "858df18e",
   "metadata": {},
   "source": [
    "    dividing the dataset into training and testing "
   ]
  },
  {
   "cell_type": "code",
   "execution_count": 26,
   "id": "8075326e",
   "metadata": {},
   "outputs": [],
   "source": [
    "# dataset splitting \n",
    "# import from sklearn\n",
    "\n",
    "from sklearn.model_selection import train_test_split"
   ]
  },
  {
   "cell_type": "code",
   "execution_count": 27,
   "id": "556887b4",
   "metadata": {},
   "outputs": [],
   "source": [
    "# splitting \n",
    "\n",
    "X_train, X_test, y_train, y_test = train_test_split(X,\n",
    "                                                    y,\n",
    "                                                    test_size = 0.2)"
   ]
  },
  {
   "cell_type": "code",
   "execution_count": 28,
   "id": "5328d894",
   "metadata": {},
   "outputs": [
    {
     "data": {
      "text/html": [
       "<div>\n",
       "<style scoped>\n",
       "    .dataframe tbody tr th:only-of-type {\n",
       "        vertical-align: middle;\n",
       "    }\n",
       "\n",
       "    .dataframe tbody tr th {\n",
       "        vertical-align: top;\n",
       "    }\n",
       "\n",
       "    .dataframe thead th {\n",
       "        text-align: right;\n",
       "    }\n",
       "</style>\n",
       "<table border=\"1\" class=\"dataframe\">\n",
       "  <thead>\n",
       "    <tr style=\"text-align: right;\">\n",
       "      <th></th>\n",
       "      <th>Interest Rates</th>\n",
       "      <th>Employment</th>\n",
       "    </tr>\n",
       "  </thead>\n",
       "  <tbody>\n",
       "    <tr>\n",
       "      <th>63</th>\n",
       "      <td>1.784757</td>\n",
       "      <td>60.119278</td>\n",
       "    </tr>\n",
       "    <tr>\n",
       "      <th>317</th>\n",
       "      <td>2.407596</td>\n",
       "      <td>47.206677</td>\n",
       "    </tr>\n",
       "    <tr>\n",
       "      <th>846</th>\n",
       "      <td>2.145747</td>\n",
       "      <td>61.382160</td>\n",
       "    </tr>\n",
       "    <tr>\n",
       "      <th>517</th>\n",
       "      <td>2.360407</td>\n",
       "      <td>56.194326</td>\n",
       "    </tr>\n",
       "    <tr>\n",
       "      <th>454</th>\n",
       "      <td>2.438621</td>\n",
       "      <td>66.683265</td>\n",
       "    </tr>\n",
       "    <tr>\n",
       "      <th>...</th>\n",
       "      <td>...</td>\n",
       "      <td>...</td>\n",
       "    </tr>\n",
       "    <tr>\n",
       "      <th>135</th>\n",
       "      <td>2.172568</td>\n",
       "      <td>46.058135</td>\n",
       "    </tr>\n",
       "    <tr>\n",
       "      <th>283</th>\n",
       "      <td>2.087142</td>\n",
       "      <td>53.208170</td>\n",
       "    </tr>\n",
       "    <tr>\n",
       "      <th>214</th>\n",
       "      <td>2.121485</td>\n",
       "      <td>60.943693</td>\n",
       "    </tr>\n",
       "    <tr>\n",
       "      <th>928</th>\n",
       "      <td>2.342076</td>\n",
       "      <td>54.897147</td>\n",
       "    </tr>\n",
       "    <tr>\n",
       "      <th>541</th>\n",
       "      <td>2.365558</td>\n",
       "      <td>52.620657</td>\n",
       "    </tr>\n",
       "  </tbody>\n",
       "</table>\n",
       "<p>800 rows × 2 columns</p>\n",
       "</div>"
      ],
      "text/plain": [
       "     Interest Rates  Employment\n",
       "63         1.784757   60.119278\n",
       "317        2.407596   47.206677\n",
       "846        2.145747   61.382160\n",
       "517        2.360407   56.194326\n",
       "454        2.438621   66.683265\n",
       "..              ...         ...\n",
       "135        2.172568   46.058135\n",
       "283        2.087142   53.208170\n",
       "214        2.121485   60.943693\n",
       "928        2.342076   54.897147\n",
       "541        2.365558   52.620657\n",
       "\n",
       "[800 rows x 2 columns]"
      ]
     },
     "execution_count": 28,
     "metadata": {},
     "output_type": "execute_result"
    }
   ],
   "source": [
    "X_train"
   ]
  },
  {
   "cell_type": "code",
   "execution_count": 29,
   "id": "6ec0866d",
   "metadata": {},
   "outputs": [
    {
     "data": {
      "text/html": [
       "<div>\n",
       "<style scoped>\n",
       "    .dataframe tbody tr th:only-of-type {\n",
       "        vertical-align: middle;\n",
       "    }\n",
       "\n",
       "    .dataframe tbody tr th {\n",
       "        vertical-align: top;\n",
       "    }\n",
       "\n",
       "    .dataframe thead th {\n",
       "        text-align: right;\n",
       "    }\n",
       "</style>\n",
       "<table border=\"1\" class=\"dataframe\">\n",
       "  <thead>\n",
       "    <tr style=\"text-align: right;\">\n",
       "      <th></th>\n",
       "      <th>Interest Rates</th>\n",
       "      <th>Employment</th>\n",
       "    </tr>\n",
       "  </thead>\n",
       "  <tbody>\n",
       "    <tr>\n",
       "      <th>579</th>\n",
       "      <td>2.105974</td>\n",
       "      <td>59.542542</td>\n",
       "    </tr>\n",
       "    <tr>\n",
       "      <th>314</th>\n",
       "      <td>2.192313</td>\n",
       "      <td>59.352726</td>\n",
       "    </tr>\n",
       "    <tr>\n",
       "      <th>211</th>\n",
       "      <td>2.578467</td>\n",
       "      <td>57.254865</td>\n",
       "    </tr>\n",
       "    <tr>\n",
       "      <th>271</th>\n",
       "      <td>1.938483</td>\n",
       "      <td>59.173041</td>\n",
       "    </tr>\n",
       "    <tr>\n",
       "      <th>747</th>\n",
       "      <td>2.188239</td>\n",
       "      <td>51.259157</td>\n",
       "    </tr>\n",
       "    <tr>\n",
       "      <th>...</th>\n",
       "      <td>...</td>\n",
       "      <td>...</td>\n",
       "    </tr>\n",
       "    <tr>\n",
       "      <th>907</th>\n",
       "      <td>2.238498</td>\n",
       "      <td>50.134809</td>\n",
       "    </tr>\n",
       "    <tr>\n",
       "      <th>910</th>\n",
       "      <td>2.105030</td>\n",
       "      <td>55.679710</td>\n",
       "    </tr>\n",
       "    <tr>\n",
       "      <th>912</th>\n",
       "      <td>2.208298</td>\n",
       "      <td>61.094184</td>\n",
       "    </tr>\n",
       "    <tr>\n",
       "      <th>980</th>\n",
       "      <td>2.131515</td>\n",
       "      <td>50.968124</td>\n",
       "    </tr>\n",
       "    <tr>\n",
       "      <th>304</th>\n",
       "      <td>2.251801</td>\n",
       "      <td>63.603045</td>\n",
       "    </tr>\n",
       "  </tbody>\n",
       "</table>\n",
       "<p>200 rows × 2 columns</p>\n",
       "</div>"
      ],
      "text/plain": [
       "     Interest Rates  Employment\n",
       "579        2.105974   59.542542\n",
       "314        2.192313   59.352726\n",
       "211        2.578467   57.254865\n",
       "271        1.938483   59.173041\n",
       "747        2.188239   51.259157\n",
       "..              ...         ...\n",
       "907        2.238498   50.134809\n",
       "910        2.105030   55.679710\n",
       "912        2.208298   61.094184\n",
       "980        2.131515   50.968124\n",
       "304        2.251801   63.603045\n",
       "\n",
       "[200 rows x 2 columns]"
      ]
     },
     "execution_count": 29,
     "metadata": {},
     "output_type": "execute_result"
    }
   ],
   "source": [
    "X_test"
   ]
  },
  {
   "cell_type": "code",
   "execution_count": 30,
   "id": "0cb1d06f",
   "metadata": {},
   "outputs": [
    {
     "data": {
      "text/plain": [
       "63     2057.813890\n",
       "317    2514.830249\n",
       "846    2327.283786\n",
       "517    2309.639821\n",
       "454    2528.507200\n",
       "          ...     \n",
       "135    2153.545306\n",
       "283    2194.463651\n",
       "214    2211.922757\n",
       "928    2298.408420\n",
       "541    2368.032181\n",
       "Name: S&P 500 Price, Length: 800, dtype: float64"
      ]
     },
     "execution_count": 30,
     "metadata": {},
     "output_type": "execute_result"
    }
   ],
   "source": [
    "y_train"
   ]
  },
  {
   "cell_type": "code",
   "execution_count": 31,
   "id": "490875a9",
   "metadata": {},
   "outputs": [
    {
     "data": {
      "text/plain": [
       "579    2387.611610\n",
       "314    2448.401656\n",
       "211    2586.350786\n",
       "271    2280.188292\n",
       "747    2171.113464\n",
       "          ...     \n",
       "907    2202.788460\n",
       "910    2260.624767\n",
       "912    2384.179176\n",
       "980    2245.594050\n",
       "304    2431.691555\n",
       "Name: S&P 500 Price, Length: 200, dtype: float64"
      ]
     },
     "execution_count": 31,
     "metadata": {},
     "output_type": "execute_result"
    }
   ],
   "source": [
    "y_test"
   ]
  },
  {
   "cell_type": "markdown",
   "id": "860776a7",
   "metadata": {},
   "source": [
    "# Step 5: Training the model"
   ]
  },
  {
   "cell_type": "code",
   "execution_count": 33,
   "id": "f8569381",
   "metadata": {},
   "outputs": [],
   "source": [
    "# importing linear regression from sklearn \n",
    "\n",
    "from sklearn.linear_model import LinearRegression"
   ]
  },
  {
   "cell_type": "code",
   "execution_count": 40,
   "id": "d7fd93ee",
   "metadata": {},
   "outputs": [],
   "source": [
    "# instantiating an object out of our class\n",
    "\n",
    "regressor = LinearRegression(fit_intercept = True)"
   ]
  },
  {
   "cell_type": "code",
   "execution_count": 41,
   "id": "734ba1c6",
   "metadata": {},
   "outputs": [
    {
     "data": {
      "text/plain": [
       "LinearRegression()"
      ]
     },
     "execution_count": 41,
     "metadata": {},
     "output_type": "execute_result"
    }
   ],
   "source": [
    "# passing the training to the object \n",
    "\n",
    "regressor.fit(X_train, y_train)"
   ]
  },
  {
   "cell_type": "code",
   "execution_count": 42,
   "id": "5d2952db",
   "metadata": {},
   "outputs": [
    {
     "name": "stdout",
     "output_type": "stream",
     "text": [
      "Linear Model Coefficients (m): [725.77042606  12.5512363 ]\n",
      "Linear Model Coefficients (b): 18.71458586141398\n"
     ]
    }
   ],
   "source": [
    "# visualizing the coefficients\n",
    "\n",
    "print('Linear Model Coefficients (m):', regressor.coef_)\n",
    "print('Linear Model Coefficients (b):', regressor.intercept_)"
   ]
  },
  {
   "cell_type": "markdown",
   "id": "e9230e9e",
   "metadata": {},
   "source": [
    "# Step 6: Evaluating the model"
   ]
  },
  {
   "cell_type": "code",
   "execution_count": 43,
   "id": "38d9707a",
   "metadata": {},
   "outputs": [],
   "source": [
    "# predicting the dependent variable y through the X_test data\n",
    "\n",
    "\n",
    "y_predict = regressor.predict(X_test)"
   ]
  },
  {
   "cell_type": "code",
   "execution_count": 44,
   "id": "1766890e",
   "metadata": {},
   "outputs": [
    {
     "data": {
      "text/plain": [
       "array([2294.50106417, 2354.78068958, 2608.70900856, 2168.30318672,\n",
       "       2250.23965803, 2106.88576388, 2630.94155664, 2441.05146203,\n",
       "       2483.66253727, 2023.11033294, 2035.72138928, 2584.25493165,\n",
       "       2431.5116734 , 2523.32757784, 2153.47482256, 2110.82241159,\n",
       "       2163.35345449, 2155.65057401, 2308.8703659 , 2746.23936388,\n",
       "       2235.3089564 , 2509.64270418, 2597.11985735, 2476.87058352,\n",
       "       2823.21460983, 2129.30702705, 2464.53691053, 2212.00686017,\n",
       "       2382.60285651, 2122.40419641, 2442.18153345, 2273.4748988 ,\n",
       "       2051.6633985 , 2589.27755452, 2183.38458897, 1988.77939452,\n",
       "       2472.3067154 , 2434.96325569, 2528.64540295, 2182.9645377 ,\n",
       "       2260.64745076, 2145.94991748, 2241.17505423, 2192.72968709,\n",
       "       2488.57210159, 2272.41414646, 2512.32170661, 2037.36987186,\n",
       "       1871.7196252 , 2105.53159211, 2127.40303018, 2225.83234847,\n",
       "       2484.91394699, 2503.91560331, 2154.71549449, 2470.52225245,\n",
       "       1985.93261496, 2443.48617094, 2204.87210498, 2559.12740059,\n",
       "       2723.50456574, 2518.88957516, 2724.70159095, 2440.6319516 ,\n",
       "       2400.28069502, 2404.95293405, 2576.44557247, 2272.43318141,\n",
       "       2070.95744538, 2144.08037956, 2717.70492372, 2252.43530297,\n",
       "       2472.07274337, 1907.33499952, 2304.37894458, 2340.55327296,\n",
       "       2072.08628149, 2315.33287727, 2476.86225465, 2173.37925615,\n",
       "       2626.27500131, 2071.43987438, 2511.77365679, 2037.49662825,\n",
       "       2528.00411104, 2101.38542489, 2051.74946053, 2386.72447187,\n",
       "       1972.30389381, 2047.75755139, 2176.08999437, 2162.3071208 ,\n",
       "       2615.65457689, 2420.88477493, 1894.94761902, 2444.47902653,\n",
       "       2256.80729182, 2081.65303396, 2350.58821147, 2182.442153  ,\n",
       "       2190.56865686, 2449.04563949, 2335.54888354, 2247.03745535,\n",
       "       2416.84332668, 2182.1283519 , 2197.47654577, 2481.88477519,\n",
       "       2259.01721954, 2439.75829287, 2154.69598455, 1912.12764994,\n",
       "       2391.94914222, 2297.84483311, 2004.19989626, 2094.66916438,\n",
       "       2609.1745347 , 2030.62007637, 2433.70276027, 2477.32678481,\n",
       "       2449.34945022, 2426.74608483, 1992.89186714, 2419.51439921,\n",
       "       2139.54657275, 2433.55922351, 2581.39707447, 2460.47542942,\n",
       "       2167.40387267, 2198.0013346 , 2194.30917582, 2603.05380705,\n",
       "       2670.41252421, 1898.31011916, 2284.23201325, 2144.86948702,\n",
       "       2286.77877489, 2253.74843067, 2125.01898424, 2292.36758012,\n",
       "       2346.5914161 , 2710.27868231, 1969.17825811, 2494.56462756,\n",
       "       2187.42821594, 2211.67650916, 2333.14842697, 2510.70286922,\n",
       "       2103.91674537, 2512.39420189, 1993.01720422, 2424.73650647,\n",
       "       2042.41574391, 2492.25429583, 2647.6342623 , 2286.24103966,\n",
       "       2164.3226202 , 2418.67005007, 2360.14090343, 2170.03461632,\n",
       "       2435.56433435, 2377.15547775, 1860.21116353, 2121.88807103,\n",
       "       2233.04422919, 2075.83725645, 2204.76215383, 2607.60025252,\n",
       "       2367.09375112, 2409.23058068, 2305.94268473, 2419.65915103,\n",
       "       2321.53246224, 2354.52455056, 2304.21912666, 2312.86076741,\n",
       "       2052.73265951, 2473.41954619, 2572.24855862, 2400.40834651,\n",
       "       2178.06521113, 2443.83817682, 2683.37775156, 2400.05683004,\n",
       "       2274.71229676, 2648.65441917, 2437.03296245, 2415.3328814 ,\n",
       "       2256.70594648, 2375.34977581, 2237.84675376, 2318.90063585,\n",
       "       2563.11137786, 2511.70061141, 2555.6179715 , 2272.60375991,\n",
       "       2245.33223487, 2388.23915359, 2205.41783568, 2451.302304  ])"
      ]
     },
     "execution_count": 44,
     "metadata": {},
     "output_type": "execute_result"
    }
   ],
   "source": [
    "y_predict"
   ]
  },
  {
   "cell_type": "code",
   "execution_count": 45,
   "id": "49dc4253",
   "metadata": {},
   "outputs": [
    {
     "data": {
      "text/plain": [
       "579    2387.611610\n",
       "314    2448.401656\n",
       "211    2586.350786\n",
       "271    2280.188292\n",
       "747    2171.113464\n",
       "          ...     \n",
       "907    2202.788460\n",
       "910    2260.624767\n",
       "912    2384.179176\n",
       "980    2245.594050\n",
       "304    2431.691555\n",
       "Name: S&P 500 Price, Length: 200, dtype: float64"
      ]
     },
     "execution_count": 45,
     "metadata": {},
     "output_type": "execute_result"
    }
   ],
   "source": [
    "# comparing the ground true dataset with the prediction\n",
    "# of independent variable y\n",
    "\n",
    "y_test"
   ]
  },
  {
   "cell_type": "code",
   "execution_count": 46,
   "id": "5acdd5d1",
   "metadata": {},
   "outputs": [
    {
     "data": {
      "text/plain": [
       "Text(0.5, 1.0, 'Multiple Linear Regression Predictions')"
      ]
     },
     "execution_count": 46,
     "metadata": {},
     "output_type": "execute_result"
    },
    {
     "data": {
      "image/png": "[encoded data removed]",
      "text/plain": [
       "<Figure size 432x288 with 1 Axes>"
      ]
     },
     "metadata": {
      "needs_background": "light"
     },
     "output_type": "display_data"
    }
   ],
   "source": [
    "# plotting the true dataset vs predicted data\n",
    "\n",
    "plt.scatter(y_test, \n",
    "            y_predict,\n",
    "           color = 'blue')\n",
    "plt.xlabel('True Value (Ground Truth)')\n",
    "plt.ylabel('Model Prediction')\n",
    "plt.title('Multiple Linear Regression Predictions')"
   ]
  },
  {
   "cell_type": "markdown",
   "id": "da6a9499",
   "metadata": {},
   "source": [
    "Note: If the model predictions matches the True value, we should see perfect 45 degree line \n",
    "\n",
    "this says that the model has good performance "
   ]
  },
  {
   "cell_type": "markdown",
   "id": "86ad46c7",
   "metadata": {},
   "source": [
    "    APPLYING KEY PERFORMANCE METRICS"
   ]
  },
  {
   "cell_type": "markdown",
   "id": "0c0c1410",
   "metadata": {},
   "source": [
    "WOULD PERFORMING THE METRICS THROUGH;\n",
    "\n",
    "        MSE\n",
    "        MAE\n",
    "        RMSE\n",
    "        MAPE\n",
    "        MPE\n",
    "        R2\n",
    "        AND ADJUSTED R2"
   ]
  },
  {
   "cell_type": "code",
   "execution_count": 53,
   "id": "9d172481",
   "metadata": {},
   "outputs": [
    {
     "data": {
      "text/plain": [
       "2"
      ]
     },
     "execution_count": 53,
     "metadata": {},
     "output_type": "execute_result"
    }
   ],
   "source": [
    "# checking the numbers of independent parameters for \n",
    "# testing\n",
    "\n",
    "k = X_test.shape[1]\n",
    "k"
   ]
  },
  {
   "cell_type": "code",
   "execution_count": 54,
   "id": "6c88401f",
   "metadata": {},
   "outputs": [
    {
     "data": {
      "text/plain": [
       "200"
      ]
     },
     "execution_count": 54,
     "metadata": {},
     "output_type": "execute_result"
    }
   ],
   "source": [
    "# calling the length of independent variable \n",
    "# X_test only\n",
    "\n",
    "n = len(X_test)\n",
    "n\n",
    "\n",
    "# or n = X_test.shape[0]"
   ]
  },
  {
   "cell_type": "code",
   "execution_count": 56,
   "id": "cabbf862",
   "metadata": {},
   "outputs": [],
   "source": [
    "# importing the metrics from sklearn \n",
    "\n",
    "from sklearn.metrics import r2_score, mean_absolute_error, mean_squared_error\n"
   ]
  },
  {
   "cell_type": "code",
   "execution_count": 58,
   "id": "e3663e5f",
   "metadata": {},
   "outputs": [],
   "source": [
    "# since we want import RMSE\n",
    "# we would just need to perform square to MSE\n",
    "# so math module would do just that \n",
    "\n",
    "from math import sqrt\n",
    "\n",
    "# calculation to RMSE \n",
    "\n",
    "RMSE = float(format(np.sqrt(mean_squared_error(y_test,y_predict)), '.3f'))"
   ]
  },
  {
   "cell_type": "code",
   "execution_count": 59,
   "id": "ca3c0b9e",
   "metadata": {},
   "outputs": [
    {
     "name": "stdout",
     "output_type": "stream",
     "text": [
      "RMSE =  64.755\n"
     ]
    }
   ],
   "source": [
    "print('RMSE = ', RMSE)"
   ]
  },
  {
   "cell_type": "code",
   "execution_count": 60,
   "id": "84814c1e",
   "metadata": {},
   "outputs": [],
   "source": [
    "# calculation for MSE\n",
    "\n",
    "MSE = mean_squared_error(y_test, y_predict)"
   ]
  },
  {
   "cell_type": "code",
   "execution_count": 61,
   "id": "a496689a",
   "metadata": {},
   "outputs": [
    {
     "name": "stdout",
     "output_type": "stream",
     "text": [
      "RMSE =  64.755 \n",
      "MSE =  4193.241333516693\n"
     ]
    }
   ],
   "source": [
    "print('RMSE = ', RMSE, '\\nMSE = ', MSE)"
   ]
  },
  {
   "cell_type": "code",
   "execution_count": 62,
   "id": "635957a5",
   "metadata": {},
   "outputs": [],
   "source": [
    "# calculation for MAE\n",
    "\n",
    "MAE = mean_absolute_error(y_test, y_predict)"
   ]
  },
  {
   "cell_type": "code",
   "execution_count": 64,
   "id": "2a131593",
   "metadata": {},
   "outputs": [
    {
     "name": "stdout",
     "output_type": "stream",
     "text": [
      "RMSE =  64.755 \n",
      "MSE =  4193.241333516693 \n",
      "MAE =  53.6933477794218\n"
     ]
    }
   ],
   "source": [
    "print('RMSE = ', RMSE, '\\nMSE = ', MSE, '\\nMAE = ', MAE)"
   ]
  },
  {
   "cell_type": "code",
   "execution_count": 65,
   "id": "85aaa624",
   "metadata": {},
   "outputs": [],
   "source": [
    "# for r2\n",
    "\n",
    "r2 = r2_score(y_test, y_predict)"
   ]
  },
  {
   "cell_type": "code",
   "execution_count": 66,
   "id": "25b5bd2c",
   "metadata": {},
   "outputs": [
    {
     "name": "stdout",
     "output_type": "stream",
     "text": [
      "RMSE =  64.755 \n",
      "MSE =  4193.241333516693 \n",
      "MAE =  53.6933477794218 \n",
      "r2 =  0.9059551572985042\n"
     ]
    }
   ],
   "source": [
    "print('RMSE = ', RMSE, '\\nMSE = ', MSE, '\\nMAE = ', MAE, '\\nr2 = ', r2)"
   ]
  },
  {
   "cell_type": "code",
   "execution_count": 67,
   "id": "cee1eba5",
   "metadata": {},
   "outputs": [],
   "source": [
    "# for adjusted error\n",
    "\n",
    "adj = 1-(1-r2) * (n-1)/(n-k-1)"
   ]
  },
  {
   "cell_type": "code",
   "execution_count": 73,
   "id": "cc37d960",
   "metadata": {},
   "outputs": [
    {
     "name": "stdout",
     "output_type": "stream",
     "text": [
      "RMSE =  64.755 \n",
      "MSE =  4193.241333516693 \n",
      "MAE =  53.6933477794218 \n",
      "r2 =  0.9059551572985042 \n",
      "Adjusted R2 =  0.9050003873218393\n"
     ]
    }
   ],
   "source": [
    "print('RMSE = ', RMSE, '\\nMSE = ', MSE, '\\nMAE = ', MAE, '\\nr2 = ', r2, '\\nAdjusted R2 = ', adj)"
   ]
  },
  {
   "cell_type": "code",
   "execution_count": 69,
   "id": "29133256",
   "metadata": {},
   "outputs": [],
   "source": [
    "# for MAPE\n",
    "\n",
    "MAPE = np.mean( np.abs( (y_test - y_predict) / y_test ) ) * 100"
   ]
  },
  {
   "cell_type": "code",
   "execution_count": 74,
   "id": "53cbe8b6",
   "metadata": {},
   "outputs": [
    {
     "name": "stdout",
     "output_type": "stream",
     "text": [
      "RMSE =  64.755 \n",
      "MSE =  4193.241333516693 \n",
      "MAE =  53.6933477794218 \n",
      "r2 =  0.9059551572985042 \n",
      "Adjusted R2 =  0.9050003873218393 \n",
      "MAPE =  2.3279001737120186\n"
     ]
    }
   ],
   "source": [
    "print('RMSE = ', RMSE, '\\nMSE = ', MSE, '\\nMAE = ', MAE, '\\nr2 = ', r2, '\\nAdjusted R2 = ', adj, '\\nMAPE = ', MAPE)"
   ]
  },
  {
   "cell_type": "code",
   "execution_count": 71,
   "id": "78f9a0d5",
   "metadata": {},
   "outputs": [],
   "source": [
    "# for MPE\n",
    "\n",
    "MPE = np.mean( (y_test - y_predict) / y_test ) * 100"
   ]
  },
  {
   "cell_type": "code",
   "execution_count": 75,
   "id": "11e0e24d",
   "metadata": {},
   "outputs": [
    {
     "name": "stdout",
     "output_type": "stream",
     "text": [
      "RMSE =  64.755 \n",
      "MSE =  4193.241333516693 \n",
      "MAE =  53.6933477794218 \n",
      "r2 =  0.9059551572985042 \n",
      "Adjusted R2 =  0.9050003873218393 \n",
      "MAPE =  2.3279001737120186 \n",
      "MPE =  0.3307365063995399\n"
     ]
    }
   ],
   "source": [
    "print('RMSE = ', RMSE, '\\nMSE = ', MSE, '\\nMAE = ', MAE, '\\nr2 = ', r2, '\\nAdjusted R2 = ', adj, '\\nMAPE = ', MAPE, '\\nMPE = ', MPE )"
   ]
  },
  {
   "cell_type": "markdown",
   "id": "f9326fc3",
   "metadata": {},
   "source": [
    "THE RESULT ABOVE IS WHEN THE TRAINING AND TESTING DATASET IS SPLITTED TO 80, 20. "
   ]
  },
  {
   "cell_type": "markdown",
   "id": "8c398960",
   "metadata": {},
   "source": [
    "    SPLITTING THE DATA AGAIN TO 70% TRAINING AND 30% TESTING "
   ]
  },
  {
   "cell_type": "code",
   "execution_count": 78,
   "id": "866cae04",
   "metadata": {},
   "outputs": [],
   "source": [
    "# splitting \n",
    "\n",
    "X_train, X_test, y_train, y_test = train_test_split(X,\n",
    "                                                    y,\n",
    "                                                    test_size = 0.3)"
   ]
  },
  {
   "cell_type": "code",
   "execution_count": 79,
   "id": "7cbc305e",
   "metadata": {},
   "outputs": [
    {
     "data": {
      "text/html": [
       "<div>\n",
       "<style scoped>\n",
       "    .dataframe tbody tr th:only-of-type {\n",
       "        vertical-align: middle;\n",
       "    }\n",
       "\n",
       "    .dataframe tbody tr th {\n",
       "        vertical-align: top;\n",
       "    }\n",
       "\n",
       "    .dataframe thead th {\n",
       "        text-align: right;\n",
       "    }\n",
       "</style>\n",
       "<table border=\"1\" class=\"dataframe\">\n",
       "  <thead>\n",
       "    <tr style=\"text-align: right;\">\n",
       "      <th></th>\n",
       "      <th>Interest Rates</th>\n",
       "      <th>Employment</th>\n",
       "    </tr>\n",
       "  </thead>\n",
       "  <tbody>\n",
       "    <tr>\n",
       "      <th>394</th>\n",
       "      <td>2.096922</td>\n",
       "      <td>55.349976</td>\n",
       "    </tr>\n",
       "    <tr>\n",
       "      <th>29</th>\n",
       "      <td>2.150986</td>\n",
       "      <td>58.010265</td>\n",
       "    </tr>\n",
       "    <tr>\n",
       "      <th>234</th>\n",
       "      <td>2.246987</td>\n",
       "      <td>64.666272</td>\n",
       "    </tr>\n",
       "    <tr>\n",
       "      <th>437</th>\n",
       "      <td>2.128699</td>\n",
       "      <td>52.102355</td>\n",
       "    </tr>\n",
       "    <tr>\n",
       "      <th>269</th>\n",
       "      <td>2.236707</td>\n",
       "      <td>47.256041</td>\n",
       "    </tr>\n",
       "    <tr>\n",
       "      <th>...</th>\n",
       "      <td>...</td>\n",
       "      <td>...</td>\n",
       "    </tr>\n",
       "    <tr>\n",
       "      <th>867</th>\n",
       "      <td>2.337778</td>\n",
       "      <td>58.531790</td>\n",
       "    </tr>\n",
       "    <tr>\n",
       "      <th>295</th>\n",
       "      <td>2.299449</td>\n",
       "      <td>62.884981</td>\n",
       "    </tr>\n",
       "    <tr>\n",
       "      <th>802</th>\n",
       "      <td>2.271645</td>\n",
       "      <td>59.183956</td>\n",
       "    </tr>\n",
       "    <tr>\n",
       "      <th>443</th>\n",
       "      <td>2.666854</td>\n",
       "      <td>53.756390</td>\n",
       "    </tr>\n",
       "    <tr>\n",
       "      <th>536</th>\n",
       "      <td>2.314810</td>\n",
       "      <td>57.531357</td>\n",
       "    </tr>\n",
       "  </tbody>\n",
       "</table>\n",
       "<p>700 rows × 2 columns</p>\n",
       "</div>"
      ],
      "text/plain": [
       "     Interest Rates  Employment\n",
       "394        2.096922   55.349976\n",
       "29         2.150986   58.010265\n",
       "234        2.246987   64.666272\n",
       "437        2.128699   52.102355\n",
       "269        2.236707   47.256041\n",
       "..              ...         ...\n",
       "867        2.337778   58.531790\n",
       "295        2.299449   62.884981\n",
       "802        2.271645   59.183956\n",
       "443        2.666854   53.756390\n",
       "536        2.314810   57.531357\n",
       "\n",
       "[700 rows x 2 columns]"
      ]
     },
     "execution_count": 79,
     "metadata": {},
     "output_type": "execute_result"
    }
   ],
   "source": [
    "X_train"
   ]
  },
  {
   "cell_type": "code",
   "execution_count": 80,
   "id": "09faa3b3",
   "metadata": {},
   "outputs": [
    {
     "data": {
      "text/html": [
       "<div>\n",
       "<style scoped>\n",
       "    .dataframe tbody tr th:only-of-type {\n",
       "        vertical-align: middle;\n",
       "    }\n",
       "\n",
       "    .dataframe tbody tr th {\n",
       "        vertical-align: top;\n",
       "    }\n",
       "\n",
       "    .dataframe thead th {\n",
       "        text-align: right;\n",
       "    }\n",
       "</style>\n",
       "<table border=\"1\" class=\"dataframe\">\n",
       "  <thead>\n",
       "    <tr style=\"text-align: right;\">\n",
       "      <th></th>\n",
       "      <th>Interest Rates</th>\n",
       "      <th>Employment</th>\n",
       "    </tr>\n",
       "  </thead>\n",
       "  <tbody>\n",
       "    <tr>\n",
       "      <th>629</th>\n",
       "      <td>2.289741</td>\n",
       "      <td>70.000000</td>\n",
       "    </tr>\n",
       "    <tr>\n",
       "      <th>561</th>\n",
       "      <td>2.613130</td>\n",
       "      <td>59.504243</td>\n",
       "    </tr>\n",
       "    <tr>\n",
       "      <th>331</th>\n",
       "      <td>1.958816</td>\n",
       "      <td>52.314442</td>\n",
       "    </tr>\n",
       "    <tr>\n",
       "      <th>940</th>\n",
       "      <td>2.223084</td>\n",
       "      <td>52.600729</td>\n",
       "    </tr>\n",
       "    <tr>\n",
       "      <th>163</th>\n",
       "      <td>2.055642</td>\n",
       "      <td>56.191876</td>\n",
       "    </tr>\n",
       "    <tr>\n",
       "      <th>...</th>\n",
       "      <td>...</td>\n",
       "      <td>...</td>\n",
       "    </tr>\n",
       "    <tr>\n",
       "      <th>600</th>\n",
       "      <td>2.260446</td>\n",
       "      <td>51.397314</td>\n",
       "    </tr>\n",
       "    <tr>\n",
       "      <th>454</th>\n",
       "      <td>2.438621</td>\n",
       "      <td>66.683265</td>\n",
       "    </tr>\n",
       "    <tr>\n",
       "      <th>461</th>\n",
       "      <td>2.239113</td>\n",
       "      <td>48.762134</td>\n",
       "    </tr>\n",
       "    <tr>\n",
       "      <th>73</th>\n",
       "      <td>2.195249</td>\n",
       "      <td>59.313496</td>\n",
       "    </tr>\n",
       "    <tr>\n",
       "      <th>382</th>\n",
       "      <td>2.004016</td>\n",
       "      <td>56.930647</td>\n",
       "    </tr>\n",
       "  </tbody>\n",
       "</table>\n",
       "<p>300 rows × 2 columns</p>\n",
       "</div>"
      ],
      "text/plain": [
       "     Interest Rates  Employment\n",
       "629        2.289741   70.000000\n",
       "561        2.613130   59.504243\n",
       "331        1.958816   52.314442\n",
       "940        2.223084   52.600729\n",
       "163        2.055642   56.191876\n",
       "..              ...         ...\n",
       "600        2.260446   51.397314\n",
       "454        2.438621   66.683265\n",
       "461        2.239113   48.762134\n",
       "73         2.195249   59.313496\n",
       "382        2.004016   56.930647\n",
       "\n",
       "[300 rows x 2 columns]"
      ]
     },
     "execution_count": 80,
     "metadata": {},
     "output_type": "execute_result"
    }
   ],
   "source": [
    "X_test"
   ]
  },
  {
   "cell_type": "code",
   "execution_count": 81,
   "id": "3f032ca3",
   "metadata": {},
   "outputs": [
    {
     "data": {
      "text/plain": [
       "394    2247.175725\n",
       "29     2301.183322\n",
       "234    2363.088234\n",
       "437    2266.463540\n",
       "269    2249.463406\n",
       "          ...     \n",
       "867    2397.221502\n",
       "295    2500.830946\n",
       "802    2424.130614\n",
       "443    2744.341038\n",
       "536    2377.864371\n",
       "Name: S&P 500 Price, Length: 700, dtype: float64"
      ]
     },
     "execution_count": 81,
     "metadata": {},
     "output_type": "execute_result"
    }
   ],
   "source": [
    "y_train"
   ]
  },
  {
   "cell_type": "code",
   "execution_count": 82,
   "id": "66b616c4",
   "metadata": {
    "scrolled": true
   },
   "outputs": [
    {
     "data": {
      "text/plain": [
       "629    2669.413724\n",
       "561    2556.490037\n",
       "331    2106.392158\n",
       "940    2303.949594\n",
       "163    2126.587693\n",
       "          ...     \n",
       "600    2249.426759\n",
       "454    2528.507200\n",
       "461    2249.398812\n",
       "73     2442.427461\n",
       "382    2164.921093\n",
       "Name: S&P 500 Price, Length: 300, dtype: float64"
      ]
     },
     "execution_count": 82,
     "metadata": {},
     "output_type": "execute_result"
    }
   ],
   "source": [
    "y_test"
   ]
  },
  {
   "cell_type": "code",
   "execution_count": 83,
   "id": "10672722",
   "metadata": {},
   "outputs": [],
   "source": [
    "# instantiating an object out of our class\n",
    "\n",
    "regressor = LinearRegression(fit_intercept = True)"
   ]
  },
  {
   "cell_type": "code",
   "execution_count": 84,
   "id": "e85e2363",
   "metadata": {},
   "outputs": [
    {
     "data": {
      "text/plain": [
       "LinearRegression()"
      ]
     },
     "execution_count": 84,
     "metadata": {},
     "output_type": "execute_result"
    }
   ],
   "source": [
    "# passing the training to the object \n",
    "\n",
    "regressor.fit(X_train, y_train)"
   ]
  },
  {
   "cell_type": "code",
   "execution_count": 85,
   "id": "0d58979b",
   "metadata": {},
   "outputs": [
    {
     "name": "stdout",
     "output_type": "stream",
     "text": [
      "Linear Model Coefficients (m): [727.21664144  12.25533795]\n",
      "Linear Model Coefficients (b): 32.60696840516448\n"
     ]
    }
   ],
   "source": [
    "# visualizing the coefficients\n",
    "\n",
    "print('Linear Model Coefficients (m):', regressor.coef_)\n",
    "print('Linear Model Coefficients (b):', regressor.intercept_)"
   ]
  },
  {
   "cell_type": "code",
   "execution_count": 86,
   "id": "c7f13021",
   "metadata": {},
   "outputs": [],
   "source": [
    "# predicting the dependent variable y through the X_test data\n",
    "\n",
    "\n",
    "y_predict = regressor.predict(X_test)"
   ]
  },
  {
   "cell_type": "code",
   "execution_count": 87,
   "id": "3ed86848",
   "metadata": {},
   "outputs": [
    {
     "data": {
      "text/plain": [
       "array([2555.61835727, 2662.16302516, 2098.22191691, 2293.91055243,\n",
       "       2216.15461272, 2210.84347462, 2332.30517542, 2392.66278304,\n",
       "       2101.48068327, 2650.28388093, 2371.34989274, 2210.21901534,\n",
       "       2122.33503375, 2006.59492498, 2472.85062921, 2567.36353736,\n",
       "       2156.81000422, 2303.14254014, 1988.23762801, 2359.5878762 ,\n",
       "       2345.32126868, 2028.14414461, 2276.86549807, 2458.62964218,\n",
       "       2636.62584334, 2205.076567  , 2250.66047078, 2014.57143716,\n",
       "       2345.19765841, 2393.83393518, 2206.19223239, 2474.36217443,\n",
       "       1955.32306897, 2241.5263479 , 2434.64785743, 2106.67073971,\n",
       "       2604.19326743, 2501.94591256, 2581.02845718, 2284.74270311,\n",
       "       2074.93341305, 2554.06028742, 2503.76295351, 1992.6969094 ,\n",
       "       2322.27160036, 2698.62975928, 2003.70498475, 2354.09487513,\n",
       "       2335.40797633, 2274.89868487, 2359.77603209, 2383.67452419,\n",
       "       1976.82727593, 2683.12192374, 2251.53945964, 2217.12822263,\n",
       "       2369.82689321, 2410.0279196 , 2279.25178863, 2144.74848178,\n",
       "       2459.02379625, 2280.75310623, 2142.27835456, 2299.85732951,\n",
       "       2025.15699521, 2333.39972039, 2483.58742633, 2431.72635825,\n",
       "       2413.73006848, 2202.46309189, 2092.45141711, 2216.23304878,\n",
       "       2206.22106459, 2257.16195237, 2629.2833157 , 1934.20336325,\n",
       "       2431.49263557, 2526.00825243, 2214.54398928, 2194.88696606,\n",
       "       2209.37024194, 1973.06935362, 2453.63179182, 2527.7516514 ,\n",
       "       2510.84958214, 2123.6372766 , 2408.47958555, 2480.10777683,\n",
       "       2087.21555795, 2037.34429254, 2553.83624694, 2514.06957217,\n",
       "       2249.6809058 , 2500.51941149, 2446.89944924, 2435.64320817,\n",
       "       2386.94696147, 2237.54143858, 2370.32817832, 2165.67152525,\n",
       "       2113.60012555, 2521.90464522, 2420.47413187, 2226.3843584 ,\n",
       "       2591.71933442, 2406.66811953, 2207.31146356, 2258.30647155,\n",
       "       2316.82475262, 1982.85661406, 2242.50675378, 2187.62725918,\n",
       "       2177.45530446, 2406.08573404, 2205.52941451, 2363.6410495 ,\n",
       "       2530.86601096, 2639.8472195 , 2147.65162918, 2569.09416012,\n",
       "       2133.6344939 , 2317.7617392 , 2299.02983751, 2028.55717002,\n",
       "       2199.80380862, 2474.78567655, 2191.33925199, 2346.23323127,\n",
       "       2478.46860784, 2255.79541265, 2378.11551098, 2511.69066166,\n",
       "       2264.03297379, 2150.59705757, 2651.17149032, 2312.06510326,\n",
       "       2216.30015365, 2474.34971295, 2544.60164567, 2488.03366981,\n",
       "       2559.14861796, 2549.88180348, 2582.37769427, 2025.65515136,\n",
       "       2246.92343941, 2145.77844773, 2232.26769066, 2501.67418836,\n",
       "       2311.83090208, 2097.67883928, 2216.00370529, 2284.24630477,\n",
       "       2646.91283745, 1927.42966513, 2361.9843543 , 2389.02536479,\n",
       "       2257.02943928, 2444.64857365, 2460.09326141, 2422.31474364,\n",
       "       2317.40502273, 2275.35589741, 2325.91211371, 2091.60634415,\n",
       "       2405.1022938 , 2552.76695091, 2476.11832843, 2459.15419069,\n",
       "       2647.98496499, 2582.21289289, 2699.46943131, 1989.79168539,\n",
       "       2294.33862865, 2243.53568983, 2463.31057679, 1970.43994114,\n",
       "       2495.35987614, 2213.42969199, 2351.60013792, 2557.54144912,\n",
       "       2053.53719733, 1910.76335508, 2471.86329391, 2600.08771048,\n",
       "       2180.39233407, 2130.06433481, 2315.05047318, 2417.21602259,\n",
       "       2172.75337156, 2055.72337542, 2548.72933228, 2365.85726141,\n",
       "       2248.72896885, 2300.22237915, 2359.53769525, 2619.11596546,\n",
       "       2129.28475951, 2343.33916178, 2231.87156267, 2130.88241483,\n",
       "       2278.58623216, 2479.41029667, 1992.45399927, 2576.5951373 ,\n",
       "       1994.00712823, 2281.92627131, 2603.47361484, 2473.29636435,\n",
       "       2411.80334243, 2339.90604068, 2401.27847268, 2252.41982959,\n",
       "       2360.11316879, 2142.79991615, 2098.27056663, 2118.13137474,\n",
       "       2366.71285812, 2331.75848054, 2313.54404549, 2287.85955775,\n",
       "       2195.25504732, 2330.35162541, 2253.33066189, 2416.74335811,\n",
       "       2221.3684615 , 2433.14228746, 2339.48060814, 2397.76395843,\n",
       "       2449.58029085, 2322.88211913, 2074.73959089, 2392.03929351,\n",
       "       2519.38453982, 2161.00312563, 2266.75797974, 2671.90365055,\n",
       "       2561.79728276, 2112.97561378, 2371.51296461, 2501.11551206,\n",
       "       2595.98270641, 2473.9714584 , 2144.56516494, 2293.82059957,\n",
       "       2484.42404091, 2343.0344616 , 2397.91223789, 2396.73191976,\n",
       "       2294.4903034 , 2185.17864653, 2236.08194339, 2347.27892474,\n",
       "       2320.78165147, 2057.77925553, 2119.29271615, 2453.95942915,\n",
       "       2577.35703953, 2365.09167769, 2384.67892027, 2390.00895223,\n",
       "       2185.78899168, 2278.53692542, 2360.12469082, 2230.13873362,\n",
       "       2485.53783575, 2210.09008923, 2186.22238328, 2181.97325687,\n",
       "       2122.01117517, 2302.15385488, 2187.85532802, 2529.75633064,\n",
       "       2418.73086648, 2368.92134469, 2316.89157488, 2169.87486728,\n",
       "       2352.91201376, 2152.01026017, 2486.23107413, 2292.91804467,\n",
       "       2449.00910322, 2471.10056609, 2484.98459605, 2370.53807254,\n",
       "       2125.32582173, 2369.70390686, 2513.89130288, 2445.45199713,\n",
       "       2460.95284148, 2328.36843344, 2577.78358907, 2077.03686019,\n",
       "       2397.42775166, 2387.23448509, 2251.19016716, 2306.33203788,\n",
       "       2623.23843434, 2258.52380996, 2355.93579272, 2187.66528874])"
      ]
     },
     "execution_count": 87,
     "metadata": {},
     "output_type": "execute_result"
    }
   ],
   "source": [
    "y_predict"
   ]
  },
  {
   "cell_type": "code",
   "execution_count": 88,
   "id": "dc87eb9a",
   "metadata": {
    "scrolled": true
   },
   "outputs": [
    {
     "data": {
      "text/plain": [
       "629    2669.413724\n",
       "561    2556.490037\n",
       "331    2106.392158\n",
       "940    2303.949594\n",
       "163    2126.587693\n",
       "          ...     \n",
       "600    2249.426759\n",
       "454    2528.507200\n",
       "461    2249.398812\n",
       "73     2442.427461\n",
       "382    2164.921093\n",
       "Name: S&P 500 Price, Length: 300, dtype: float64"
      ]
     },
     "execution_count": 88,
     "metadata": {},
     "output_type": "execute_result"
    }
   ],
   "source": [
    "# comparing the ground true dataset with the prediction\n",
    "# of independent variable y\n",
    "\n",
    "y_test"
   ]
  },
  {
   "cell_type": "code",
   "execution_count": 90,
   "id": "e374b83e",
   "metadata": {
    "scrolled": true
   },
   "outputs": [
    {
     "data": {
      "text/plain": [
       "Text(0.5, 1.0, 'Multiple Linear Regression Predictions')"
      ]
     },
     "execution_count": 90,
     "metadata": {},
     "output_type": "execute_result"
    },
    {
     "data": {
      "image/png": "[encoded data removed]",
      "text/plain": [
       "<Figure size 432x288 with 1 Axes>"
      ]
     },
     "metadata": {
      "needs_background": "light"
     },
     "output_type": "display_data"
    }
   ],
   "source": [
    "# plotting the true dataset vs predicted data\n",
    "\n",
    "plt.scatter(y_test, \n",
    "            y_predict,\n",
    "           color = 'grey')\n",
    "plt.xlabel('True Value (Ground Truth)')\n",
    "plt.ylabel('Model Prediction')\n",
    "plt.title('Multiple Linear Regression Predictions')"
   ]
  },
  {
   "cell_type": "code",
   "execution_count": 91,
   "id": "7e1a06fd",
   "metadata": {},
   "outputs": [
    {
     "data": {
      "text/plain": [
       "2"
      ]
     },
     "execution_count": 91,
     "metadata": {},
     "output_type": "execute_result"
    }
   ],
   "source": [
    "# checking the numbers of independent parameters for \n",
    "# testing\n",
    "\n",
    "k = X_test.shape[1]\n",
    "k"
   ]
  },
  {
   "cell_type": "code",
   "execution_count": 92,
   "id": "8283a4db",
   "metadata": {},
   "outputs": [
    {
     "data": {
      "text/plain": [
       "300"
      ]
     },
     "execution_count": 92,
     "metadata": {},
     "output_type": "execute_result"
    }
   ],
   "source": [
    "# calling the length of independent variable \n",
    "# X_test only\n",
    "\n",
    "n = len(X_test)\n",
    "n\n",
    "\n",
    "# or n = X_test.shape[0]"
   ]
  },
  {
   "cell_type": "code",
   "execution_count": 93,
   "id": "e55a6f0c",
   "metadata": {},
   "outputs": [],
   "source": [
    "# since we want import RMSE\n",
    "# we would just need to perform square to MSE\n",
    "# so math module would do just that \n",
    "\n",
    "from math import sqrt\n",
    "\n",
    "# calculation to RMSE \n",
    "\n",
    "RMSE = float(format(np.sqrt(mean_squared_error(y_test,y_predict)), '.3f'))"
   ]
  },
  {
   "cell_type": "code",
   "execution_count": 94,
   "id": "25577acf",
   "metadata": {},
   "outputs": [],
   "source": [
    "# calculation for MSE\n",
    "\n",
    "MSE = mean_squared_error(y_test, y_predict)"
   ]
  },
  {
   "cell_type": "code",
   "execution_count": 95,
   "id": "8ca3f135",
   "metadata": {},
   "outputs": [],
   "source": [
    "# calculation for MAE\n",
    "\n",
    "MAE = mean_absolute_error(y_test, y_predict)"
   ]
  },
  {
   "cell_type": "code",
   "execution_count": 96,
   "id": "2594137d",
   "metadata": {},
   "outputs": [],
   "source": [
    "# for r2\n",
    "\n",
    "r2 = r2_score(y_test, y_predict)"
   ]
  },
  {
   "cell_type": "code",
   "execution_count": 97,
   "id": "91619ba7",
   "metadata": {},
   "outputs": [],
   "source": [
    "# for adjusted error\n",
    "\n",
    "adj = 1-(1-r2) * (n-1)/(n-k-1)"
   ]
  },
  {
   "cell_type": "code",
   "execution_count": 98,
   "id": "c7c59bdf",
   "metadata": {},
   "outputs": [],
   "source": [
    "# for MAPE\n",
    "\n",
    "MAPE = np.mean( np.abs( (y_test - y_predict) / y_test ) ) * 100"
   ]
  },
  {
   "cell_type": "code",
   "execution_count": 99,
   "id": "46b54a76",
   "metadata": {},
   "outputs": [],
   "source": [
    "# for MPE\n",
    "\n",
    "MPE = np.mean( (y_test - y_predict) / y_test ) * 100"
   ]
  },
  {
   "cell_type": "code",
   "execution_count": 100,
   "id": "7f85d4d8",
   "metadata": {},
   "outputs": [
    {
     "name": "stdout",
     "output_type": "stream",
     "text": [
      "RMSE =  58.845 \n",
      "MSE =  3462.6964182423853 \n",
      "MAE =  47.27544160881441 \n",
      "r2 =  0.8979056945159614 \n",
      "Adjusted R2 =  0.897218190775328 \n",
      "MAPE =  2.0341720512538535 \n",
      "MPE =  0.14422786074090366\n"
     ]
    }
   ],
   "source": [
    "print('RMSE = ', RMSE, '\\nMSE = ', MSE, '\\nMAE = ', MAE, '\\nr2 = ', r2, '\\nAdjusted R2 = ', adj, '\\nMAPE = ', MAPE, '\\nMPE = ', MPE )"
   ]
  },
  {
   "cell_type": "markdown",
   "id": "408b2095",
   "metadata": {},
   "source": [
    "    COMPARING THE TWO RESULTS WHEN DATA IS SPLITTED INTO 80/20 AND 70/30 FOR TRAINING AND TESTING "
   ]
  },
  {
   "cell_type": "markdown",
   "id": "7f53e299",
   "metadata": {},
   "source": [
    "            80/20\n",
    "            \n",
    "            \n",
    "            RMSE =  64.755 \n",
    "            MSE =  4193.241333516693 \n",
    "            MAE =  53.6933477794218 \n",
    "            r2 =  0.9059551572985042 \n",
    "            Adjusted R2 =  0.9050003873218393 \n",
    "            MAPE =  2.3279001737120186 \n",
    "            MPE =  0.3307365063995399"
   ]
  },
  {
   "cell_type": "markdown",
   "id": "fa808eba",
   "metadata": {},
   "source": [
    "       70/30\n",
    "       \n",
    "       \n",
    "       RMSE =  58.845 \n",
    "       MSE =  3462.6964182423853 \n",
    "       MAE =  47.27544160881441 \n",
    "       r2 =  0.8979056945159614 \n",
    "       Adjusted R2 =  0.897218190775328 \n",
    "       MAPE =  2.0341720512538535 \n",
    "       MPE =  0.14422786074090366"
   ]
  },
  {
   "cell_type": "markdown",
   "id": "ce6329f1",
   "metadata": {},
   "source": [
    "# Step 7: Visualize the result"
   ]
  },
  {
   "cell_type": "markdown",
   "id": "3a1599e2",
   "metadata": {},
   "source": [
    "    CREATING MESH GRID AND 3D PLOT TO VISUALIZE THE TRAINING DATA AND PLANE (TRAINED MODEL CREATED). "
   ]
  },
  {
   "cell_type": "code",
   "execution_count": 101,
   "id": "08d11e3e",
   "metadata": {},
   "outputs": [],
   "source": [
    "# for 3D plot \n",
    "\n",
    "from mpl_toolkits.mplot3d import Axes3D"
   ]
  },
  {
   "cell_type": "code",
   "execution_count": 102,
   "id": "0804fa35",
   "metadata": {},
   "outputs": [],
   "source": [
    "# creating a mesh grid\n",
    "# from the two independent variable \n",
    "# using linspace\n",
    "\n",
    "x_surf, y_surf = np.meshgrid(np.linspace(stockdata['Interest Rates'].min(),\n",
    "                                        stockdata['Interest Rates'].max(),100),\n",
    "                                        np.linspace(stockdata['Employment'].min(),\n",
    "                                        stockdata['Employment'].max(),100))"
   ]
  },
  {
   "cell_type": "code",
   "execution_count": 103,
   "id": "db883b90",
   "metadata": {},
   "outputs": [
    {
     "data": {
      "text/plain": [
       "(100, 100)"
      ]
     },
     "execution_count": 103,
     "metadata": {},
     "output_type": "execute_result"
    }
   ],
   "source": [
    "x_surf.shape"
   ]
  },
  {
   "cell_type": "code",
   "execution_count": 104,
   "id": "0f3e4e0e",
   "metadata": {},
   "outputs": [
    {
     "data": {
      "text/plain": [
       "(100, 100)"
      ]
     },
     "execution_count": 104,
     "metadata": {},
     "output_type": "execute_result"
    }
   ],
   "source": [
    "y_surf.shape"
   ]
  },
  {
   "cell_type": "code",
   "execution_count": 106,
   "id": "70b4ad8c",
   "metadata": {},
   "outputs": [],
   "source": [
    "onlyX = pd.DataFrame({'Interest Rates': x_surf.ravel(),\n",
    "                     'Employment': y_surf.ravel()})\n",
    "\n",
    "# x_surf array will be flattened using .ravel()\n",
    "# same goes for y_surf"
   ]
  },
  {
   "cell_type": "code",
   "execution_count": 107,
   "id": "dd6f897d",
   "metadata": {},
   "outputs": [
    {
     "data": {
      "text/plain": [
       "(10000, 2)"
      ]
     },
     "execution_count": 107,
     "metadata": {},
     "output_type": "execute_result"
    }
   ],
   "source": [
    "onlyX.shape "
   ]
  },
  {
   "cell_type": "code",
   "execution_count": 108,
   "id": "cb78c657",
   "metadata": {},
   "outputs": [],
   "source": [
    "# for z\n",
    "\n",
    "fittedY = regressor.predict(onlyX)"
   ]
  },
  {
   "cell_type": "code",
   "execution_count": 109,
   "id": "e8a56e2c",
   "metadata": {},
   "outputs": [
    {
     "data": {
      "text/plain": [
       "(10000,)"
      ]
     },
     "execution_count": 109,
     "metadata": {},
     "output_type": "execute_result"
    }
   ],
   "source": [
    "fittedY.shape"
   ]
  },
  {
   "cell_type": "code",
   "execution_count": 110,
   "id": "d1c67642",
   "metadata": {},
   "outputs": [],
   "source": [
    "# reshaping the fittedY to 100 by 100\n",
    "\n",
    "fittedY = fittedY.reshape(x_surf.shape)"
   ]
  },
  {
   "cell_type": "code",
   "execution_count": 111,
   "id": "460ee0cb",
   "metadata": {},
   "outputs": [
    {
     "data": {
      "text/plain": [
       "(100, 100)"
      ]
     },
     "execution_count": 111,
     "metadata": {},
     "output_type": "execute_result"
    }
   ],
   "source": [
    "fittedY.shape"
   ]
  },
  {
   "cell_type": "code",
   "execution_count": 112,
   "id": "f678d026",
   "metadata": {},
   "outputs": [
    {
     "data": {
      "text/plain": [
       "Text(0.5, 0, 'Stock Index Price')"
      ]
     },
     "execution_count": 112,
     "metadata": {},
     "output_type": "execute_result"
    },
    {
     "data": {
      "image/png": "[encoded data removed]",
      "text/plain": [
       "<Figure size 432x288 with 1 Axes>"
      ]
     },
     "metadata": {
      "needs_background": "light"
     },
     "output_type": "display_data"
    }
   ],
   "source": [
    "# plotting the 3D\n",
    "\n",
    "fig = plt.figure()\n",
    "ax = fig.add_subplot(111, projection = '3d')\n",
    "ax.scatter( stockdata['Interest Rates'],\n",
    "           stockdata['Employment'],\n",
    "          stockdata['S&P 500 Price'],\n",
    "          c = 'green',\n",
    "          marker = 'x')\n",
    "ax.plot_surface(x_surf, y_surf, fittedY, color = 'red',\n",
    "               alpha = 0.3)\n",
    "ax.set_xlabel('Interest Rates')\n",
    "ax.set_ylabel('Employment Rates')\n",
    "ax.set_zlabel('Stock Index Price')"
   ]
  },
  {
   "cell_type": "code",
   "execution_count": 113,
   "id": "2a644409",
   "metadata": {},
   "outputs": [
    {
     "data": {
      "image/png": "[encoded data removed]",
      "text/plain": [
       "<Figure size 432x288 with 1 Axes>"
      ]
     },
     "metadata": {
      "needs_background": "light"
     },
     "output_type": "display_data"
    }
   ],
   "source": [
    "# rotating the image of the plot using view initial\n",
    "\n",
    "fig = plt.figure()\n",
    "ax = fig.add_subplot(111, projection = '3d')\n",
    "ax.scatter( stockdata['Interest Rates'],\n",
    "           stockdata['Employment'],\n",
    "          stockdata['S&P 500 Price'],\n",
    "          c = 'green',\n",
    "          marker = 'x')\n",
    "ax.plot_surface(x_surf, y_surf, fittedY, color = 'red',\n",
    "               alpha = 0.3)\n",
    "ax.set_xlabel('Interest Rates')\n",
    "ax.set_ylabel('Employment Rates')\n",
    "ax.set_zlabel('Stock Index Price')\n",
    "ax.view_init(20, 30)\n",
    "plt.show()"
   ]
  },
  {
   "cell_type": "code",
   "execution_count": 115,
   "id": "1499f700",
   "metadata": {},
   "outputs": [
    {
     "data": {
      "text/html": [
       "<div>\n",
       "<style scoped>\n",
       "    .dataframe tbody tr th:only-of-type {\n",
       "        vertical-align: middle;\n",
       "    }\n",
       "\n",
       "    .dataframe tbody tr th {\n",
       "        vertical-align: top;\n",
       "    }\n",
       "\n",
       "    .dataframe thead th {\n",
       "        text-align: right;\n",
       "    }\n",
       "</style>\n",
       "<table border=\"1\" class=\"dataframe\">\n",
       "  <thead>\n",
       "    <tr style=\"text-align: right;\">\n",
       "      <th></th>\n",
       "      <th>Coefficient</th>\n",
       "    </tr>\n",
       "  </thead>\n",
       "  <tbody>\n",
       "    <tr>\n",
       "      <th>Interest Rates</th>\n",
       "      <td>727.216641</td>\n",
       "    </tr>\n",
       "    <tr>\n",
       "      <th>Employment</th>\n",
       "      <td>12.255338</td>\n",
       "    </tr>\n",
       "  </tbody>\n",
       "</table>\n",
       "</div>"
      ],
      "text/plain": [
       "                Coefficient\n",
       "Interest Rates   727.216641\n",
       "Employment        12.255338"
      ]
     },
     "execution_count": 115,
     "metadata": {},
     "output_type": "execute_result"
    }
   ],
   "source": [
    "# showing the coefficient of independent varibles of the model in dataframe\n",
    "\n",
    "coeff_df = pd.DataFrame(regressor.coef_,\n",
    "                       X.columns,\n",
    "                       columns = ['Coefficient'])\n",
    "\n",
    "coeff_df"
   ]
  },
  {
   "cell_type": "markdown",
   "id": "5a44e154",
   "metadata": {},
   "source": [
    "# Coefficient Interpretation"
   ]
  },
  {
   "cell_type": "markdown",
   "id": "66677c02",
   "metadata": {},
   "source": [
    "     Any unit change in Interest Rates (independent variable) would have an impact of 727.216641 on the dependent variable ('S&P 500 Price')\n",
    "     \n",
    "                   AND\n",
    "                   \n",
    "     Any unit change in Employment Rates (independent variable) would have an impact of 12.255338 on the dependent variable ('S&P 500 Price')"
   ]
  },
  {
   "cell_type": "markdown",
   "id": "bcdf35c9",
   "metadata": {},
   "source": [
    "The explanation to the above interpretation means that Interest Rates as an Independent variable would greater impact on Dependent Variable (S&P 500 Price) than the other independent variable (Employment) "
   ]
  },
  {
   "cell_type": "code",
   "execution_count": null,
   "id": "4b4aa5b6",
   "metadata": {},
   "outputs": [],
   "source": []
  }
 ],
 "metadata": {
  "kernelspec": {
   "display_name": "Python 3",
   "language": "python",
   "name": "python3"
  },
  "language_info": {
   "codemirror_mode": {
    "name": "ipython",
    "version": 3
   },
   "file_extension": ".py",
   "mimetype": "text/x-python",
   "name": "python",
   "nbconvert_exporter": "python",
   "pygments_lexer": "ipython3",
   "version": "3.8.8"
  }
 },
 "nbformat": 4,
 "nbformat_minor": 5
}
